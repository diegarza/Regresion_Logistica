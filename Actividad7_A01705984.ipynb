{
  "nbformat": 4,
  "nbformat_minor": 0,
  "metadata": {
    "colab": {
      "provenance": [],
      "authorship_tag": "ABX9TyMCRFnzHg4ttEAJaNQ4kJt0",
      "include_colab_link": true
    },
    "kernelspec": {
      "name": "python3",
      "display_name": "Python 3"
    },
    "language_info": {
      "name": "python"
    }
  },
  "cells": [
    {
      "cell_type": "markdown",
      "metadata": {
        "id": "view-in-github",
        "colab_type": "text"
      },
      "source": [
        "<a href=\"https://colab.research.google.com/github/diegarza/Regresion_Logistica/blob/main/Actividad7_A01705984.ipynb\" target=\"_parent\"><img src=\"https://colab.research.google.com/assets/colab-badge.svg\" alt=\"Open In Colab\"/></a>"
      ]
    },
    {
      "cell_type": "markdown",
      "source": [
        "##**Importación del documento**"
      ],
      "metadata": {
        "id": "WrY0t_Y9iHLM"
      }
    },
    {
      "cell_type": "code",
      "execution_count": null,
      "metadata": {
        "id": "JK-m-kM8haUg"
      },
      "outputs": [],
      "source": [
        "import pandas as pd\n",
        "import numpy as np\n",
        "import matplotlib.pyplot as plt\n",
        "import scipy.special as special\n",
        "from scipy.optimize import curve_fit\n",
        "import seaborn as sns\n",
        "from sklearn.metrics import r2_score\n",
        "from sklearn.model_selection import train_test_split\n",
        "from sklearn.preprocessing import StandardScaler\n",
        "from sklearn.metrics import confusion_matrix\n",
        "from sklearn.metrics import precision_score\n",
        "from sklearn.metrics import accuracy_score\n",
        "from sklearn.metrics import f1_score\n",
        "from sklearn.linear_model import LogisticRegression\n",
        "\n",
        "df = pd.read_csv('cuentas_credicel.csv', encoding = 'latin')"
      ]
    },
    {
      "cell_type": "markdown",
      "source": [
        "##**Tratamiento de nulos y outliers**"
      ],
      "metadata": {
        "id": "iFqcj4nRiKUX"
      }
    },
    {
      "cell_type": "code",
      "source": [
        "########## Valores nulos #############\n",
        "\n",
        "df.dropna(inplace=True)\n",
        "\n",
        "# Columna 'limite_credito' debe corregirse\n",
        "# Verifica y reemplaza valores no numéricos con la mediana\n",
        "\n",
        "import re\n",
        "\n",
        "def eliminar_letras(cadena):\n",
        "  if isinstance(cadena, (int, float)):\n",
        "    return cadena\n",
        "\n",
        "  cadena_numerica = \"\"\n",
        "\n",
        "  for caracter in str(cadena):\n",
        "    if caracter.isdigit() or caracter == '.':\n",
        "      cadena_numerica += caracter\n",
        "\n",
        "  try:\n",
        "    valor_numerico = float(cadena_numerica)\n",
        "  except ValueError:\n",
        "    valor_numerico = 0.0\n",
        "\n",
        "  return valor_numerico\n",
        "\n",
        "df['limite_credito'] = df['limite_credito'].astype(str).apply(eliminar_letras)\n",
        "\n",
        "df['limite_credito'] = df['limite_credito'].apply(eliminar_letras)\n",
        "\n",
        "######### Elimincación de outliers ############\n",
        "\n",
        "for col in df.columns:\n",
        "  if col != 'folio' and col != 'folio_solicitud':\n",
        "    if df[col].dtypes == 'int64' or df[col].dtypes == 'float64':\n",
        "      Q1 = df[col].quantile(0.25)\n",
        "      Q3 = df[col].quantile(0.75)\n",
        "      IQR = Q3 - Q1\n",
        "      lower_bound = Q1 - 1.5 * IQR\n",
        "      upper_bound = Q3 + 1.5 * IQR\n",
        "      df.loc[df[col] < lower_bound, col] = df[col].mean()\n",
        "      df.loc[df[col] > upper_bound, col] = df[col].mean()\n",
        "\n",
        "df.isnull().sum().sum()"
      ],
      "metadata": {
        "colab": {
          "base_uri": "https://localhost:8080/"
        },
        "id": "vQu9-NzRiO7V",
        "outputId": "1788d1fd-88e6-4336-d8fc-a5f25d2ad0dc"
      },
      "execution_count": 118,
      "outputs": [
        {
          "output_type": "execute_result",
          "data": {
            "text/plain": [
              "0"
            ]
          },
          "metadata": {},
          "execution_count": 118
        }
      ]
    },
    {
      "cell_type": "code",
      "source": [
        "df = df.drop(columns = [i for i in df.columns if df[i].dtypes == 'object'])"
      ],
      "metadata": {
        "id": "Q58Wvehwjm19"
      },
      "execution_count": 119,
      "outputs": []
    },
    {
      "cell_type": "markdown",
      "source": [
        "##**Todas las variables como X y score_buro como y**"
      ],
      "metadata": {
        "id": "PqNUR1RRjB8h"
      }
    },
    {
      "cell_type": "code",
      "source": [
        "resultados = pd.DataFrame(columns=['Variable', 'Precisión', 'Exactitud', 'Puntaje F1'])\n",
        "\n",
        "# Transformar columna score a valor categórico\n",
        "\n",
        "df_1 = df.copy()\n",
        "\n",
        "percentil_50 = df['score_buro'].quantile(0.5)\n",
        "\n",
        "# Crea una función para categorizar los valores\n",
        "def categorizar_valor(valor):\n",
        "    if valor <= percentil_50:\n",
        "        return 'bajo'\n",
        "    else:\n",
        "        return 'alto'\n",
        "\n",
        "# Aplica la función para categorizar la columna\n",
        "df_1['score_buro'] = df_1['score_buro'].apply(categorizar_valor)"
      ],
      "metadata": {
        "id": "rJxS3LEMmv3d"
      },
      "execution_count": 120,
      "outputs": []
    },
    {
      "cell_type": "code",
      "source": [
        "y = df_1['score_buro']\n",
        "X = df_1[['precio',\n",
        "        'costo_total',\n",
        "        'enganche',\n",
        "        'monto_financiado',\n",
        "        'monto_accesorios',\n",
        "        'pagos_realizados',\n",
        "        'reautorizacion',\n",
        "        'limite_credito',\n",
        "        'descuento',\n",
        "        'edad_cliente']]"
      ],
      "metadata": {
        "id": "6MwnCz4ijDTV"
      },
      "execution_count": 121,
      "outputs": []
    },
    {
      "cell_type": "code",
      "source": [
        "X_train, X_test, y_train, y_test = train_test_split(X,\n",
        "                                                    y,\n",
        "                                                    test_size=0.3,\n",
        "                                                    random_state =None)\n",
        "escalar = StandardScaler()\n",
        "X_train = escalar.fit_transform(X_train)\n",
        "X_test = escalar.transform(X_test)\n",
        "algoritmo = LogisticRegression()\n",
        "algoritmo.fit(X_train, y_train)"
      ],
      "metadata": {
        "colab": {
          "base_uri": "https://localhost:8080/",
          "height": 74
        },
        "id": "QwtDKSjHkcpt",
        "outputId": "e33b4f4f-8237-4155-c364-5d73143874fe"
      },
      "execution_count": 122,
      "outputs": [
        {
          "output_type": "execute_result",
          "data": {
            "text/plain": [
              "LogisticRegression()"
            ],
            "text/html": [
              "<style>#sk-container-id-5 {color: black;background-color: white;}#sk-container-id-5 pre{padding: 0;}#sk-container-id-5 div.sk-toggleable {background-color: white;}#sk-container-id-5 label.sk-toggleable__label {cursor: pointer;display: block;width: 100%;margin-bottom: 0;padding: 0.3em;box-sizing: border-box;text-align: center;}#sk-container-id-5 label.sk-toggleable__label-arrow:before {content: \"▸\";float: left;margin-right: 0.25em;color: #696969;}#sk-container-id-5 label.sk-toggleable__label-arrow:hover:before {color: black;}#sk-container-id-5 div.sk-estimator:hover label.sk-toggleable__label-arrow:before {color: black;}#sk-container-id-5 div.sk-toggleable__content {max-height: 0;max-width: 0;overflow: hidden;text-align: left;background-color: #f0f8ff;}#sk-container-id-5 div.sk-toggleable__content pre {margin: 0.2em;color: black;border-radius: 0.25em;background-color: #f0f8ff;}#sk-container-id-5 input.sk-toggleable__control:checked~div.sk-toggleable__content {max-height: 200px;max-width: 100%;overflow: auto;}#sk-container-id-5 input.sk-toggleable__control:checked~label.sk-toggleable__label-arrow:before {content: \"▾\";}#sk-container-id-5 div.sk-estimator input.sk-toggleable__control:checked~label.sk-toggleable__label {background-color: #d4ebff;}#sk-container-id-5 div.sk-label input.sk-toggleable__control:checked~label.sk-toggleable__label {background-color: #d4ebff;}#sk-container-id-5 input.sk-hidden--visually {border: 0;clip: rect(1px 1px 1px 1px);clip: rect(1px, 1px, 1px, 1px);height: 1px;margin: -1px;overflow: hidden;padding: 0;position: absolute;width: 1px;}#sk-container-id-5 div.sk-estimator {font-family: monospace;background-color: #f0f8ff;border: 1px dotted black;border-radius: 0.25em;box-sizing: border-box;margin-bottom: 0.5em;}#sk-container-id-5 div.sk-estimator:hover {background-color: #d4ebff;}#sk-container-id-5 div.sk-parallel-item::after {content: \"\";width: 100%;border-bottom: 1px solid gray;flex-grow: 1;}#sk-container-id-5 div.sk-label:hover label.sk-toggleable__label {background-color: #d4ebff;}#sk-container-id-5 div.sk-serial::before {content: \"\";position: absolute;border-left: 1px solid gray;box-sizing: border-box;top: 0;bottom: 0;left: 50%;z-index: 0;}#sk-container-id-5 div.sk-serial {display: flex;flex-direction: column;align-items: center;background-color: white;padding-right: 0.2em;padding-left: 0.2em;position: relative;}#sk-container-id-5 div.sk-item {position: relative;z-index: 1;}#sk-container-id-5 div.sk-parallel {display: flex;align-items: stretch;justify-content: center;background-color: white;position: relative;}#sk-container-id-5 div.sk-item::before, #sk-container-id-5 div.sk-parallel-item::before {content: \"\";position: absolute;border-left: 1px solid gray;box-sizing: border-box;top: 0;bottom: 0;left: 50%;z-index: -1;}#sk-container-id-5 div.sk-parallel-item {display: flex;flex-direction: column;z-index: 1;position: relative;background-color: white;}#sk-container-id-5 div.sk-parallel-item:first-child::after {align-self: flex-end;width: 50%;}#sk-container-id-5 div.sk-parallel-item:last-child::after {align-self: flex-start;width: 50%;}#sk-container-id-5 div.sk-parallel-item:only-child::after {width: 0;}#sk-container-id-5 div.sk-dashed-wrapped {border: 1px dashed gray;margin: 0 0.4em 0.5em 0.4em;box-sizing: border-box;padding-bottom: 0.4em;background-color: white;}#sk-container-id-5 div.sk-label label {font-family: monospace;font-weight: bold;display: inline-block;line-height: 1.2em;}#sk-container-id-5 div.sk-label-container {text-align: center;}#sk-container-id-5 div.sk-container {/* jupyter's `normalize.less` sets `[hidden] { display: none; }` but bootstrap.min.css set `[hidden] { display: none !important; }` so we also need the `!important` here to be able to override the default hidden behavior on the sphinx rendered scikit-learn.org. See: https://github.com/scikit-learn/scikit-learn/issues/21755 */display: inline-block !important;position: relative;}#sk-container-id-5 div.sk-text-repr-fallback {display: none;}</style><div id=\"sk-container-id-5\" class=\"sk-top-container\"><div class=\"sk-text-repr-fallback\"><pre>LogisticRegression()</pre><b>In a Jupyter environment, please rerun this cell to show the HTML representation or trust the notebook. <br />On GitHub, the HTML representation is unable to render, please try loading this page with nbviewer.org.</b></div><div class=\"sk-container\" hidden><div class=\"sk-item\"><div class=\"sk-estimator sk-toggleable\"><input class=\"sk-toggleable__control sk-hidden--visually\" id=\"sk-estimator-id-5\" type=\"checkbox\" checked><label for=\"sk-estimator-id-5\" class=\"sk-toggleable__label sk-toggleable__label-arrow\">LogisticRegression</label><div class=\"sk-toggleable__content\"><pre>LogisticRegression()</pre></div></div></div></div></div>"
            ]
          },
          "metadata": {},
          "execution_count": 122
        }
      ]
    },
    {
      "cell_type": "code",
      "source": [
        "y_pred = algoritmo.predict(X_test)\n",
        "\n",
        "matriz = confusion_matrix(y_test, y_pred)\n",
        "precision = precision_score(y_test, y_pred, average=\"binary\", pos_label=\"alto\")\n",
        "exactitud = accuracy_score(y_test, y_pred)\n",
        "puntajef1 = f1_score(y_test, y_pred, average=\"binary\", pos_label=\"alto\")\n",
        "\n",
        "var = 'Todas'\n",
        "\n",
        "resultados = resultados.append({'Variable': var,\n",
        "                                  'Precisión': precision,\n",
        "                                  'Exactitud': exactitud,\n",
        "                                  'Puntaje F1': puntajef1},\n",
        "                                 ignore_index=True)\n",
        "\n",
        "print('Matriz de Confusión:')\n",
        "print(matriz)\n",
        "print('\\nPrecisión del modelo:')\n",
        "print(precision)\n",
        "print('\\nExactitud del modelo:')\n",
        "print(exactitud)\n",
        "print('\\nPuntaje F1 del modelo:')\n",
        "print(puntajef1)"
      ],
      "metadata": {
        "colab": {
          "base_uri": "https://localhost:8080/"
        },
        "id": "p8WOqDHonHSI",
        "outputId": "79e85c6c-6586-4e19-ddb3-d2f5f9a1f007"
      },
      "execution_count": 123,
      "outputs": [
        {
          "output_type": "stream",
          "name": "stdout",
          "text": [
            "Matriz de Confusión:\n",
            "[[1486  616]\n",
            " [ 257 1928]]\n",
            "\n",
            "Precisión del modelo:\n",
            "0.8525530694205393\n",
            "\n",
            "Exactitud del modelo:\n",
            "0.7963610916724982\n",
            "\n",
            "Puntaje F1 del modelo:\n",
            "0.7729518855656696\n"
          ]
        },
        {
          "output_type": "stream",
          "name": "stderr",
          "text": [
            "<ipython-input-123-ca4a91366669>:10: FutureWarning: The frame.append method is deprecated and will be removed from pandas in a future version. Use pandas.concat instead.\n",
            "  resultados = resultados.append({'Variable': var,\n"
          ]
        }
      ]
    },
    {
      "cell_type": "markdown",
      "source": [
        "##**Cada una de las variables seleccionadas comparada con score_buro**"
      ],
      "metadata": {
        "id": "vadgRy2ks3cO"
      }
    },
    {
      "cell_type": "code",
      "source": [
        "X_train, X_test, y_train, y_test = train_test_split(X, y, test_size=0.3, random_state=None)\n",
        "\n",
        "cont = 1\n",
        "\n",
        "\n",
        "for i in X.columns:\n",
        "\n",
        "  escalar = StandardScaler()\n",
        "  X_train_i = X_train[[i]]\n",
        "  X_test_i = X_test[[i]]\n",
        "  X_train_i = escalar.fit_transform(X_train_i)\n",
        "  X_test_i = escalar.transform(X_test_i)\n",
        "  algoritmo = LogisticRegression()\n",
        "  algoritmo.fit(X_train_i, y_train)\n",
        "  y_pred = algoritmo.predict(X_test_i)\n",
        "\n",
        "  matriz = confusion_matrix(y_test, y_pred)\n",
        "  precision = precision_score(y_test, y_pred, average=\"binary\", pos_label=\"alto\")\n",
        "  exactitud = accuracy_score(y_test, y_pred)\n",
        "  puntajef1 = f1_score(y_test, y_pred, average=\"binary\", pos_label=\"alto\")\n",
        "\n",
        "\n",
        "  resultados = resultados.append({'Variable': i,\n",
        "                                  'Precisión': precision,\n",
        "                                  'Exactitud': exactitud,\n",
        "                                  'Puntaje F1': puntajef1},\n",
        "                                 ignore_index=True)\n",
        "\n",
        "  print('________________________________')\n",
        "  print(f'\\n {cont}. Variable {i} con score_buro')\n",
        "  print('\\nMatriz de Confusión:')\n",
        "  print(matriz)\n",
        "  print('\\nPrecisión del modelo:')\n",
        "  print(precision)\n",
        "  print('\\nExactitud del modelo:')\n",
        "  print(exactitud)\n",
        "  print('\\nPuntaje F1 del modelo:')\n",
        "  print(puntajef1)\n",
        "  cont += 1"
      ],
      "metadata": {
        "colab": {
          "base_uri": "https://localhost:8080/"
        },
        "id": "m6P_wpFMwRru",
        "outputId": "957212a0-ccfa-4dbb-ce3a-8b4b4d0ad294"
      },
      "execution_count": 124,
      "outputs": [
        {
          "output_type": "stream",
          "name": "stderr",
          "text": [
            "<ipython-input-124-c3284906aa1d>:23: FutureWarning: The frame.append method is deprecated and will be removed from pandas in a future version. Use pandas.concat instead.\n",
            "  resultados = resultados.append({'Variable': i,\n"
          ]
        },
        {
          "output_type": "stream",
          "name": "stdout",
          "text": [
            "________________________________\n",
            "\n",
            " 1. Variable precio con score_buro\n",
            "\n",
            "Matriz de Confusión:\n",
            "[[ 816 1370]\n",
            " [ 713 1388]]\n",
            "\n",
            "Precisión del modelo:\n",
            "0.5336821451929366\n",
            "\n",
            "Exactitud del modelo:\n",
            "0.5141124329367857\n",
            "\n",
            "Puntaje F1 del modelo:\n",
            "0.439300134589502\n"
          ]
        },
        {
          "output_type": "stream",
          "name": "stderr",
          "text": [
            "<ipython-input-124-c3284906aa1d>:23: FutureWarning: The frame.append method is deprecated and will be removed from pandas in a future version. Use pandas.concat instead.\n",
            "  resultados = resultados.append({'Variable': i,\n"
          ]
        },
        {
          "output_type": "stream",
          "name": "stdout",
          "text": [
            "________________________________\n",
            "\n",
            " 2. Variable costo_total con score_buro\n",
            "\n",
            "Matriz de Confusión:\n",
            "[[1100 1086]\n",
            " [ 821 1280]]\n",
            "\n",
            "Precisión del modelo:\n",
            "0.5726184279021344\n",
            "\n",
            "Exactitud del modelo:\n",
            "0.5551667832983438\n",
            "\n",
            "Puntaje F1 del modelo:\n",
            "0.5356708059410762\n"
          ]
        },
        {
          "output_type": "stream",
          "name": "stderr",
          "text": [
            "<ipython-input-124-c3284906aa1d>:23: FutureWarning: The frame.append method is deprecated and will be removed from pandas in a future version. Use pandas.concat instead.\n",
            "  resultados = resultados.append({'Variable': i,\n"
          ]
        },
        {
          "output_type": "stream",
          "name": "stdout",
          "text": [
            "________________________________\n",
            "\n",
            " 3. Variable enganche con score_buro\n",
            "\n",
            "Matriz de Confusión:\n",
            "[[1230  956]\n",
            " [ 957 1144]]\n",
            "\n",
            "Precisión del modelo:\n",
            "0.5624142661179699\n",
            "\n",
            "Exactitud del modelo:\n",
            "0.5537672031723816\n",
            "\n",
            "Puntaje F1 del modelo:\n",
            "0.5625428767436542\n"
          ]
        },
        {
          "output_type": "stream",
          "name": "stderr",
          "text": [
            "<ipython-input-124-c3284906aa1d>:23: FutureWarning: The frame.append method is deprecated and will be removed from pandas in a future version. Use pandas.concat instead.\n",
            "  resultados = resultados.append({'Variable': i,\n",
            "/usr/local/lib/python3.10/dist-packages/sklearn/metrics/_classification.py:1344: UndefinedMetricWarning: Precision is ill-defined and being set to 0.0 due to no predicted samples. Use `zero_division` parameter to control this behavior.\n",
            "  _warn_prf(average, modifier, msg_start, len(result))\n"
          ]
        },
        {
          "output_type": "stream",
          "name": "stdout",
          "text": [
            "________________________________\n",
            "\n",
            " 4. Variable monto_financiado con score_buro\n",
            "\n",
            "Matriz de Confusión:\n",
            "[[1012 1174]\n",
            " [ 798 1303]]\n",
            "\n",
            "Precisión del modelo:\n",
            "0.5591160220994476\n",
            "\n",
            "Exactitud del modelo:\n",
            "0.5400046652670866\n",
            "\n",
            "Puntaje F1 del modelo:\n",
            "0.5065065065065066\n"
          ]
        },
        {
          "output_type": "stream",
          "name": "stderr",
          "text": [
            "<ipython-input-124-c3284906aa1d>:23: FutureWarning: The frame.append method is deprecated and will be removed from pandas in a future version. Use pandas.concat instead.\n",
            "  resultados = resultados.append({'Variable': i,\n"
          ]
        },
        {
          "output_type": "stream",
          "name": "stdout",
          "text": [
            "________________________________\n",
            "\n",
            " 5. Variable monto_accesorios con score_buro\n",
            "\n",
            "Matriz de Confusión:\n",
            "[[   0 2186]\n",
            " [   0 2101]]\n",
            "\n",
            "Precisión del modelo:\n",
            "0.0\n",
            "\n",
            "Exactitud del modelo:\n",
            "0.490086307441101\n",
            "\n",
            "Puntaje F1 del modelo:\n",
            "0.0\n"
          ]
        },
        {
          "output_type": "stream",
          "name": "stderr",
          "text": [
            "<ipython-input-124-c3284906aa1d>:23: FutureWarning: The frame.append method is deprecated and will be removed from pandas in a future version. Use pandas.concat instead.\n",
            "  resultados = resultados.append({'Variable': i,\n",
            "/usr/local/lib/python3.10/dist-packages/sklearn/metrics/_classification.py:1344: UndefinedMetricWarning: Precision is ill-defined and being set to 0.0 due to no predicted samples. Use `zero_division` parameter to control this behavior.\n",
            "  _warn_prf(average, modifier, msg_start, len(result))\n"
          ]
        },
        {
          "output_type": "stream",
          "name": "stdout",
          "text": [
            "________________________________\n",
            "\n",
            " 6. Variable pagos_realizados con score_buro\n",
            "\n",
            "Matriz de Confusión:\n",
            "[[ 874 1312]\n",
            " [ 749 1352]]\n",
            "\n",
            "Precisión del modelo:\n",
            "0.5385089340727048\n",
            "\n",
            "Exactitud del modelo:\n",
            "0.5192442267319805\n",
            "\n",
            "Puntaje F1 del modelo:\n",
            "0.45891310055132584\n"
          ]
        },
        {
          "output_type": "stream",
          "name": "stderr",
          "text": [
            "<ipython-input-124-c3284906aa1d>:23: FutureWarning: The frame.append method is deprecated and will be removed from pandas in a future version. Use pandas.concat instead.\n",
            "  resultados = resultados.append({'Variable': i,\n"
          ]
        },
        {
          "output_type": "stream",
          "name": "stdout",
          "text": [
            "________________________________\n",
            "\n",
            " 7. Variable reautorizacion con score_buro\n",
            "\n",
            "Matriz de Confusión:\n",
            "[[   0 2186]\n",
            " [   0 2101]]\n",
            "\n",
            "Precisión del modelo:\n",
            "0.0\n",
            "\n",
            "Exactitud del modelo:\n",
            "0.490086307441101\n",
            "\n",
            "Puntaje F1 del modelo:\n",
            "0.0\n"
          ]
        },
        {
          "output_type": "stream",
          "name": "stderr",
          "text": [
            "<ipython-input-124-c3284906aa1d>:23: FutureWarning: The frame.append method is deprecated and will be removed from pandas in a future version. Use pandas.concat instead.\n",
            "  resultados = resultados.append({'Variable': i,\n"
          ]
        },
        {
          "output_type": "stream",
          "name": "stdout",
          "text": [
            "________________________________\n",
            "\n",
            " 8. Variable limite_credito con score_buro\n",
            "\n",
            "Matriz de Confusión:\n",
            "[[1617  569]\n",
            " [ 234 1867]]\n",
            "\n",
            "Precisión del modelo:\n",
            "0.873581847649919\n",
            "\n",
            "Exactitud del modelo:\n",
            "0.8126895264753907\n",
            "\n",
            "Puntaje F1 del modelo:\n",
            "0.8010899182561309\n"
          ]
        },
        {
          "output_type": "stream",
          "name": "stderr",
          "text": [
            "<ipython-input-124-c3284906aa1d>:23: FutureWarning: The frame.append method is deprecated and will be removed from pandas in a future version. Use pandas.concat instead.\n",
            "  resultados = resultados.append({'Variable': i,\n"
          ]
        },
        {
          "output_type": "stream",
          "name": "stdout",
          "text": [
            "________________________________\n",
            "\n",
            " 9. Variable descuento con score_buro\n",
            "\n",
            "Matriz de Confusión:\n",
            "[[ 674 1512]\n",
            " [ 605 1496]]\n",
            "\n",
            "Precisión del modelo:\n",
            "0.5269741985926505\n",
            "\n",
            "Exactitud del modelo:\n",
            "0.5061814788896665\n",
            "\n",
            "Puntaje F1 del modelo:\n",
            "0.389033189033189\n",
            "________________________________\n",
            "\n",
            " 10. Variable edad_cliente con score_buro\n",
            "\n",
            "Matriz de Confusión:\n",
            "[[ 995 1191]\n",
            " [ 839 1262]]\n",
            "\n",
            "Precisión del modelo:\n",
            "0.5425299890948746\n",
            "\n",
            "Exactitud del modelo:\n",
            "0.5264753907161185\n",
            "\n",
            "Puntaje F1 del modelo:\n",
            "0.49502487562189057\n"
          ]
        },
        {
          "output_type": "stream",
          "name": "stderr",
          "text": [
            "<ipython-input-124-c3284906aa1d>:23: FutureWarning: The frame.append method is deprecated and will be removed from pandas in a future version. Use pandas.concat instead.\n",
            "  resultados = resultados.append({'Variable': i,\n"
          ]
        }
      ]
    },
    {
      "cell_type": "code",
      "source": [
        "resultados"
      ],
      "metadata": {
        "colab": {
          "base_uri": "https://localhost:8080/",
          "height": 394
        },
        "id": "YXQI1RVzwoAE",
        "outputId": "9ca6cf7b-b776-4768-ff0e-7eac60196656"
      },
      "execution_count": 125,
      "outputs": [
        {
          "output_type": "execute_result",
          "data": {
            "text/plain": [
              "            Variable  Precisión  Exactitud  Puntaje F1\n",
              "0              Todas   0.852553   0.796361    0.772952\n",
              "1             precio   0.533682   0.514112    0.439300\n",
              "2        costo_total   0.572618   0.555167    0.535671\n",
              "3           enganche   0.562414   0.553767    0.562543\n",
              "4   monto_financiado   0.559116   0.540005    0.506507\n",
              "5   monto_accesorios   0.000000   0.490086    0.000000\n",
              "6   pagos_realizados   0.538509   0.519244    0.458913\n",
              "7     reautorizacion   0.000000   0.490086    0.000000\n",
              "8     limite_credito   0.873582   0.812690    0.801090\n",
              "9          descuento   0.526974   0.506181    0.389033\n",
              "10      edad_cliente   0.542530   0.526475    0.495025"
            ],
            "text/html": [
              "\n",
              "  <div id=\"df-b95eaa92-bcbd-482f-8819-25a6d372ddd5\" class=\"colab-df-container\">\n",
              "    <div>\n",
              "<style scoped>\n",
              "    .dataframe tbody tr th:only-of-type {\n",
              "        vertical-align: middle;\n",
              "    }\n",
              "\n",
              "    .dataframe tbody tr th {\n",
              "        vertical-align: top;\n",
              "    }\n",
              "\n",
              "    .dataframe thead th {\n",
              "        text-align: right;\n",
              "    }\n",
              "</style>\n",
              "<table border=\"1\" class=\"dataframe\">\n",
              "  <thead>\n",
              "    <tr style=\"text-align: right;\">\n",
              "      <th></th>\n",
              "      <th>Variable</th>\n",
              "      <th>Precisión</th>\n",
              "      <th>Exactitud</th>\n",
              "      <th>Puntaje F1</th>\n",
              "    </tr>\n",
              "  </thead>\n",
              "  <tbody>\n",
              "    <tr>\n",
              "      <th>0</th>\n",
              "      <td>Todas</td>\n",
              "      <td>0.852553</td>\n",
              "      <td>0.796361</td>\n",
              "      <td>0.772952</td>\n",
              "    </tr>\n",
              "    <tr>\n",
              "      <th>1</th>\n",
              "      <td>precio</td>\n",
              "      <td>0.533682</td>\n",
              "      <td>0.514112</td>\n",
              "      <td>0.439300</td>\n",
              "    </tr>\n",
              "    <tr>\n",
              "      <th>2</th>\n",
              "      <td>costo_total</td>\n",
              "      <td>0.572618</td>\n",
              "      <td>0.555167</td>\n",
              "      <td>0.535671</td>\n",
              "    </tr>\n",
              "    <tr>\n",
              "      <th>3</th>\n",
              "      <td>enganche</td>\n",
              "      <td>0.562414</td>\n",
              "      <td>0.553767</td>\n",
              "      <td>0.562543</td>\n",
              "    </tr>\n",
              "    <tr>\n",
              "      <th>4</th>\n",
              "      <td>monto_financiado</td>\n",
              "      <td>0.559116</td>\n",
              "      <td>0.540005</td>\n",
              "      <td>0.506507</td>\n",
              "    </tr>\n",
              "    <tr>\n",
              "      <th>5</th>\n",
              "      <td>monto_accesorios</td>\n",
              "      <td>0.000000</td>\n",
              "      <td>0.490086</td>\n",
              "      <td>0.000000</td>\n",
              "    </tr>\n",
              "    <tr>\n",
              "      <th>6</th>\n",
              "      <td>pagos_realizados</td>\n",
              "      <td>0.538509</td>\n",
              "      <td>0.519244</td>\n",
              "      <td>0.458913</td>\n",
              "    </tr>\n",
              "    <tr>\n",
              "      <th>7</th>\n",
              "      <td>reautorizacion</td>\n",
              "      <td>0.000000</td>\n",
              "      <td>0.490086</td>\n",
              "      <td>0.000000</td>\n",
              "    </tr>\n",
              "    <tr>\n",
              "      <th>8</th>\n",
              "      <td>limite_credito</td>\n",
              "      <td>0.873582</td>\n",
              "      <td>0.812690</td>\n",
              "      <td>0.801090</td>\n",
              "    </tr>\n",
              "    <tr>\n",
              "      <th>9</th>\n",
              "      <td>descuento</td>\n",
              "      <td>0.526974</td>\n",
              "      <td>0.506181</td>\n",
              "      <td>0.389033</td>\n",
              "    </tr>\n",
              "    <tr>\n",
              "      <th>10</th>\n",
              "      <td>edad_cliente</td>\n",
              "      <td>0.542530</td>\n",
              "      <td>0.526475</td>\n",
              "      <td>0.495025</td>\n",
              "    </tr>\n",
              "  </tbody>\n",
              "</table>\n",
              "</div>\n",
              "    <div class=\"colab-df-buttons\">\n",
              "\n",
              "  <div class=\"colab-df-container\">\n",
              "    <button class=\"colab-df-convert\" onclick=\"convertToInteractive('df-b95eaa92-bcbd-482f-8819-25a6d372ddd5')\"\n",
              "            title=\"Convert this dataframe to an interactive table.\"\n",
              "            style=\"display:none;\">\n",
              "\n",
              "  <svg xmlns=\"http://www.w3.org/2000/svg\" height=\"24px\" viewBox=\"0 -960 960 960\">\n",
              "    <path d=\"M120-120v-720h720v720H120Zm60-500h600v-160H180v160Zm220 220h160v-160H400v160Zm0 220h160v-160H400v160ZM180-400h160v-160H180v160Zm440 0h160v-160H620v160ZM180-180h160v-160H180v160Zm440 0h160v-160H620v160Z\"/>\n",
              "  </svg>\n",
              "    </button>\n",
              "\n",
              "  <style>\n",
              "    .colab-df-container {\n",
              "      display:flex;\n",
              "      gap: 12px;\n",
              "    }\n",
              "\n",
              "    .colab-df-convert {\n",
              "      background-color: #E8F0FE;\n",
              "      border: none;\n",
              "      border-radius: 50%;\n",
              "      cursor: pointer;\n",
              "      display: none;\n",
              "      fill: #1967D2;\n",
              "      height: 32px;\n",
              "      padding: 0 0 0 0;\n",
              "      width: 32px;\n",
              "    }\n",
              "\n",
              "    .colab-df-convert:hover {\n",
              "      background-color: #E2EBFA;\n",
              "      box-shadow: 0px 1px 2px rgba(60, 64, 67, 0.3), 0px 1px 3px 1px rgba(60, 64, 67, 0.15);\n",
              "      fill: #174EA6;\n",
              "    }\n",
              "\n",
              "    .colab-df-buttons div {\n",
              "      margin-bottom: 4px;\n",
              "    }\n",
              "\n",
              "    [theme=dark] .colab-df-convert {\n",
              "      background-color: #3B4455;\n",
              "      fill: #D2E3FC;\n",
              "    }\n",
              "\n",
              "    [theme=dark] .colab-df-convert:hover {\n",
              "      background-color: #434B5C;\n",
              "      box-shadow: 0px 1px 3px 1px rgba(0, 0, 0, 0.15);\n",
              "      filter: drop-shadow(0px 1px 2px rgba(0, 0, 0, 0.3));\n",
              "      fill: #FFFFFF;\n",
              "    }\n",
              "  </style>\n",
              "\n",
              "    <script>\n",
              "      const buttonEl =\n",
              "        document.querySelector('#df-b95eaa92-bcbd-482f-8819-25a6d372ddd5 button.colab-df-convert');\n",
              "      buttonEl.style.display =\n",
              "        google.colab.kernel.accessAllowed ? 'block' : 'none';\n",
              "\n",
              "      async function convertToInteractive(key) {\n",
              "        const element = document.querySelector('#df-b95eaa92-bcbd-482f-8819-25a6d372ddd5');\n",
              "        const dataTable =\n",
              "          await google.colab.kernel.invokeFunction('convertToInteractive',\n",
              "                                                    [key], {});\n",
              "        if (!dataTable) return;\n",
              "\n",
              "        const docLinkHtml = 'Like what you see? Visit the ' +\n",
              "          '<a target=\"_blank\" href=https://colab.research.google.com/notebooks/data_table.ipynb>data table notebook</a>'\n",
              "          + ' to learn more about interactive tables.';\n",
              "        element.innerHTML = '';\n",
              "        dataTable['output_type'] = 'display_data';\n",
              "        await google.colab.output.renderOutput(dataTable, element);\n",
              "        const docLink = document.createElement('div');\n",
              "        docLink.innerHTML = docLinkHtml;\n",
              "        element.appendChild(docLink);\n",
              "      }\n",
              "    </script>\n",
              "  </div>\n",
              "\n",
              "\n",
              "<div id=\"df-1d3c3147-c833-474d-ae55-67a905e71ed9\">\n",
              "  <button class=\"colab-df-quickchart\" onclick=\"quickchart('df-1d3c3147-c833-474d-ae55-67a905e71ed9')\"\n",
              "            title=\"Suggest charts.\"\n",
              "            style=\"display:none;\">\n",
              "\n",
              "<svg xmlns=\"http://www.w3.org/2000/svg\" height=\"24px\"viewBox=\"0 0 24 24\"\n",
              "     width=\"24px\">\n",
              "    <g>\n",
              "        <path d=\"M19 3H5c-1.1 0-2 .9-2 2v14c0 1.1.9 2 2 2h14c1.1 0 2-.9 2-2V5c0-1.1-.9-2-2-2zM9 17H7v-7h2v7zm4 0h-2V7h2v10zm4 0h-2v-4h2v4z\"/>\n",
              "    </g>\n",
              "</svg>\n",
              "  </button>\n",
              "\n",
              "<style>\n",
              "  .colab-df-quickchart {\n",
              "      --bg-color: #E8F0FE;\n",
              "      --fill-color: #1967D2;\n",
              "      --hover-bg-color: #E2EBFA;\n",
              "      --hover-fill-color: #174EA6;\n",
              "      --disabled-fill-color: #AAA;\n",
              "      --disabled-bg-color: #DDD;\n",
              "  }\n",
              "\n",
              "  [theme=dark] .colab-df-quickchart {\n",
              "      --bg-color: #3B4455;\n",
              "      --fill-color: #D2E3FC;\n",
              "      --hover-bg-color: #434B5C;\n",
              "      --hover-fill-color: #FFFFFF;\n",
              "      --disabled-bg-color: #3B4455;\n",
              "      --disabled-fill-color: #666;\n",
              "  }\n",
              "\n",
              "  .colab-df-quickchart {\n",
              "    background-color: var(--bg-color);\n",
              "    border: none;\n",
              "    border-radius: 50%;\n",
              "    cursor: pointer;\n",
              "    display: none;\n",
              "    fill: var(--fill-color);\n",
              "    height: 32px;\n",
              "    padding: 0;\n",
              "    width: 32px;\n",
              "  }\n",
              "\n",
              "  .colab-df-quickchart:hover {\n",
              "    background-color: var(--hover-bg-color);\n",
              "    box-shadow: 0 1px 2px rgba(60, 64, 67, 0.3), 0 1px 3px 1px rgba(60, 64, 67, 0.15);\n",
              "    fill: var(--button-hover-fill-color);\n",
              "  }\n",
              "\n",
              "  .colab-df-quickchart-complete:disabled,\n",
              "  .colab-df-quickchart-complete:disabled:hover {\n",
              "    background-color: var(--disabled-bg-color);\n",
              "    fill: var(--disabled-fill-color);\n",
              "    box-shadow: none;\n",
              "  }\n",
              "\n",
              "  .colab-df-spinner {\n",
              "    border: 2px solid var(--fill-color);\n",
              "    border-color: transparent;\n",
              "    border-bottom-color: var(--fill-color);\n",
              "    animation:\n",
              "      spin 1s steps(1) infinite;\n",
              "  }\n",
              "\n",
              "  @keyframes spin {\n",
              "    0% {\n",
              "      border-color: transparent;\n",
              "      border-bottom-color: var(--fill-color);\n",
              "      border-left-color: var(--fill-color);\n",
              "    }\n",
              "    20% {\n",
              "      border-color: transparent;\n",
              "      border-left-color: var(--fill-color);\n",
              "      border-top-color: var(--fill-color);\n",
              "    }\n",
              "    30% {\n",
              "      border-color: transparent;\n",
              "      border-left-color: var(--fill-color);\n",
              "      border-top-color: var(--fill-color);\n",
              "      border-right-color: var(--fill-color);\n",
              "    }\n",
              "    40% {\n",
              "      border-color: transparent;\n",
              "      border-right-color: var(--fill-color);\n",
              "      border-top-color: var(--fill-color);\n",
              "    }\n",
              "    60% {\n",
              "      border-color: transparent;\n",
              "      border-right-color: var(--fill-color);\n",
              "    }\n",
              "    80% {\n",
              "      border-color: transparent;\n",
              "      border-right-color: var(--fill-color);\n",
              "      border-bottom-color: var(--fill-color);\n",
              "    }\n",
              "    90% {\n",
              "      border-color: transparent;\n",
              "      border-bottom-color: var(--fill-color);\n",
              "    }\n",
              "  }\n",
              "</style>\n",
              "\n",
              "  <script>\n",
              "    async function quickchart(key) {\n",
              "      const quickchartButtonEl =\n",
              "        document.querySelector('#' + key + ' button');\n",
              "      quickchartButtonEl.disabled = true;  // To prevent multiple clicks.\n",
              "      quickchartButtonEl.classList.add('colab-df-spinner');\n",
              "      try {\n",
              "        const charts = await google.colab.kernel.invokeFunction(\n",
              "            'suggestCharts', [key], {});\n",
              "      } catch (error) {\n",
              "        console.error('Error during call to suggestCharts:', error);\n",
              "      }\n",
              "      quickchartButtonEl.classList.remove('colab-df-spinner');\n",
              "      quickchartButtonEl.classList.add('colab-df-quickchart-complete');\n",
              "    }\n",
              "    (() => {\n",
              "      let quickchartButtonEl =\n",
              "        document.querySelector('#df-1d3c3147-c833-474d-ae55-67a905e71ed9 button');\n",
              "      quickchartButtonEl.style.display =\n",
              "        google.colab.kernel.accessAllowed ? 'block' : 'none';\n",
              "    })();\n",
              "  </script>\n",
              "</div>\n",
              "    </div>\n",
              "  </div>\n"
            ]
          },
          "metadata": {},
          "execution_count": 125
        }
      ]
    }
  ]
}